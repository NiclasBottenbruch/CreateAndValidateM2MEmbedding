{
 "cells": [
  {
   "cell_type": "markdown",
   "source": [
    "# Inspect Embedding and Compare to Glove\n"
   ],
   "metadata": {}
  },
  {
   "cell_type": "code",
   "execution_count": null,
   "source": [
    "#imports \r\n",
    "import json\r\n",
    "import numpy as np\r\n",
    "import pandas as pd\r\n",
    "from scipy.spatial import distance_matrix as get_dm"
   ],
   "outputs": [],
   "metadata": {}
  },
  {
   "cell_type": "code",
   "execution_count": null,
   "source": [
    "# functions to load embeddings from file\r\n",
    "\r\n",
    "def load_embedding_from_json(file_path:str):    \r\n",
    "    with open(file_path,\"r\",encoding=\"utf-8\") as json_file:\r\n",
    "         word_embedding = json.load(json_file)       \r\n",
    "    # convert vectors from list to np array\r\n",
    "    for key, vector in word_embedding.items():\r\n",
    "        word_embedding[key] = np.array(vector)\r\n",
    "    return word_embedding\r\n",
    "\r\n",
    "def load_glove_embedding_from_file(file_path):\r\n",
    "    df = pd.read_csv(file_path, sep=\" \", quoting=3, header=None, index_col=0)\r\n",
    "    glove = {key: val.values for key, val in df.T.items()}\r\n",
    "    return glove\r\n"
   ],
   "outputs": [],
   "metadata": {}
  },
  {
   "cell_type": "code",
   "execution_count": null,
   "source": [
    "# load open api embedding \r\n",
    "api_embedding = load_embedding_from_json(\"saved_embeddings/open_api_embedding_5d_314_words.json\")"
   ],
   "outputs": [],
   "metadata": {}
  },
  {
   "cell_type": "code",
   "execution_count": null,
   "source": [
    "#load glove embedding\r\n",
    "glove_embedding = load_glove_embedding_from_file(\"saved_embeddings/glove.6B.50d.txt\")"
   ],
   "outputs": [],
   "metadata": {}
  },
  {
   "cell_type": "markdown",
   "source": [
    "### Reduce Glove Embedding to same Vocabulary as OpenAPI Embedding"
   ],
   "metadata": {}
  },
  {
   "cell_type": "code",
   "execution_count": null,
   "source": [
    "def extract_words_and_vectors_from_embedding(embedding: dict):\r\n",
    "    words = []\r\n",
    "    vectors = []\r\n",
    "    \r\n",
    "    for word, vector in embedding.items():\r\n",
    "        words.append(word)\r\n",
    "        vectors.append(vector)\r\n",
    "    \r\n",
    "    return words, np.array(vectors)"
   ],
   "outputs": [],
   "metadata": {}
  },
  {
   "cell_type": "code",
   "execution_count": null,
   "source": [
    "api_embedding_words, api_embedding_vectors = extract_words_and_vectors_from_embedding(api_embedding)"
   ],
   "outputs": [],
   "metadata": {}
  },
  {
   "cell_type": "code",
   "execution_count": null,
   "source": [
    "def reduce_embedding_to_words(embedding: dict, words: list):\n",
    "    reduced_embedding = {}\n",
    "    for w in words:\n",
    "        try:\n",
    "            vector = embedding[w]\n",
    "            reduced_embedding[w] = vector\n",
    "        except:\n",
    "            pass\n",
    "    return reduced_embedding    "
   ],
   "outputs": [],
   "metadata": {}
  },
  {
   "cell_type": "code",
   "execution_count": null,
   "source": [
    "# reduce glove embedding to the same words as api embedding\n",
    "glove_embedding = reduce_embedding_to_words(glove_embedding, api_embedding_words)"
   ],
   "outputs": [],
   "metadata": {}
  },
  {
   "cell_type": "code",
   "execution_count": null,
   "source": [
    "print(\"Size own embedding: \"+str(len(api_embedding)))\n",
    "print(\"Size glove embedding: \"+str(len(glove_embedding)))"
   ],
   "outputs": [],
   "metadata": {}
  },
  {
   "cell_type": "code",
   "execution_count": null,
   "source": [
    "glove_embedding_words, glove_embedding_vectors = extract_words_and_vectors_from_embedding(glove_embedding)"
   ],
   "outputs": [],
   "metadata": {}
  },
  {
   "cell_type": "code",
   "execution_count": null,
   "source": [
    "api_embedding_distance_matrix = get_dm(api_embedding_vectors,api_embedding_vectors)"
   ],
   "outputs": [],
   "metadata": {}
  },
  {
   "cell_type": "code",
   "execution_count": null,
   "source": [
    "glove_embedding_distance_matrix = get_dm(glove_embedding_vectors, glove_embedding_vectors)"
   ],
   "outputs": [],
   "metadata": {}
  },
  {
   "cell_type": "markdown",
   "source": [
    "# Closest words "
   ],
   "metadata": {}
  },
  {
   "cell_type": "code",
   "execution_count": null,
   "source": [
    "def get_nearest_words(word:str, distance_matrix, words: list):\n",
    "    index_word = -1\n",
    "    for i, w in enumerate(words):\n",
    "        if w == word:\n",
    "            index_word = i\n",
    "            break\n",
    "    if index_word == -1:\n",
    "        msg = \"error: word \"+str(word)+\" is not embedded\"\n",
    "        print(msg)\n",
    "        return msg \n",
    "    wordpair_distances = [] # list of [\"word\", \"other_word\", distance]\n",
    "    for i, dist in enumerate(distance_matrix[index_word]):\n",
    "        other_word = words[i]\n",
    "        dist = distance_matrix[index_word][i]\n",
    "            \n",
    "        wordpair_distances.append([word, other_word, dist])\n",
    "    \n",
    "    def sort_comparer(e):\n",
    "        return e[2]\n",
    "            \n",
    "    wordpair_distances.sort(key=sort_comparer)\n",
    "    \n",
    "    return wordpair_distances  "
   ],
   "outputs": [],
   "metadata": {}
  },
  {
   "cell_type": "markdown",
   "source": [
    "<h2>Check Word </h2>"
   ],
   "metadata": {}
  },
  {
   "cell_type": "code",
   "execution_count": null,
   "source": [
    "word_to_check = \"owner\"\n",
    "number_to_show = 10"
   ],
   "outputs": [],
   "metadata": {}
  },
  {
   "cell_type": "code",
   "execution_count": null,
   "source": [
    "# nearest words open api embedding\n",
    "nearest_words_api_embedding = get_nearest_words(word_to_check, api_embedding_distance_matrix, api_embedding_words)\n",
    "\n",
    "print(\"nearest words in api embedding are: \")\n",
    "nearest_words_api_embedding[:number_to_show]"
   ],
   "outputs": [],
   "metadata": {}
  },
  {
   "cell_type": "code",
   "execution_count": null,
   "source": [
    "# nearest words glove embedding\n",
    "nearest_words_glove_embedding = get_nearest_words(word_to_check, glove_embedding_distance_matrix, glove_embedding_words)\n",
    "\n",
    "print(\"nearest words in glove embedding are: \")\n",
    "nearest_words_glove_embedding[:number_to_show]"
   ],
   "outputs": [],
   "metadata": {}
  },
  {
   "cell_type": "markdown",
   "source": [
    "# Show closest words to every word"
   ],
   "metadata": {}
  },
  {
   "cell_type": "code",
   "execution_count": null,
   "source": [
    "# get 5 closest words to every word\n",
    "\n",
    "number_closest_words = 5\n",
    "\n",
    "for word in api_embedding_words:\n",
    "    closest_api_embedding = get_nearest_words(word, api_embedding_distance_matrix, api_embedding_words)[1:number_closest_words+1]\n",
    "    try:\n",
    "        closest_api_embedding = [i[1] for i in closest_api_embedding]\n",
    "    except:\n",
    "        pass\n",
    "    \n",
    "    closest_glove_embedding = get_nearest_words(word, glove_embedding_distance_matrix, glove_embedding_words)[1:number_closest_words+1]\n",
    "    try:\n",
    "        closest_glove_embedding = [i[1] for i in closest_glove_embedding]\n",
    "    except:\n",
    "        pass\n",
    "    \n",
    "    print(\"word: \"+word)\n",
    "    print(\"closest API embedding:   \"+str(closest_api_embedding))\n",
    "    print(\"closest GloVe embedding: \"+str(closest_glove_embedding))\n",
    "    print()\n",
    "    "
   ],
   "outputs": [],
   "metadata": {}
  },
  {
   "cell_type": "code",
   "execution_count": null,
   "source": [],
   "outputs": [],
   "metadata": {}
  }
 ],
 "metadata": {
  "kernelspec": {
   "display_name": "Python 3",
   "language": "python",
   "name": "python3"
  },
  "language_info": {
   "codemirror_mode": {
    "name": "ipython",
    "version": 3
   },
   "file_extension": ".py",
   "mimetype": "text/x-python",
   "name": "python",
   "nbconvert_exporter": "python",
   "pygments_lexer": "ipython3",
   "version": "3.7.4"
  }
 },
 "nbformat": 4,
 "nbformat_minor": 2
}