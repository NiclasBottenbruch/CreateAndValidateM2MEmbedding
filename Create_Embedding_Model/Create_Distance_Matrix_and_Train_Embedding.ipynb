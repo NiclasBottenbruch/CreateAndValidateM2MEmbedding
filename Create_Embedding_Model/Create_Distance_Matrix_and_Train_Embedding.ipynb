{
 "cells": [
  {
   "cell_type": "markdown",
   "source": [
    "# Create IoT Embedding"
   ],
   "metadata": {}
  },
  {
   "cell_type": "code",
   "execution_count": null,
   "source": [
    "import json\r\n",
    "import numpy as np\r\n",
    "import matplotlib.pyplot as plt"
   ],
   "outputs": [],
   "metadata": {}
  },
  {
   "cell_type": "code",
   "execution_count": null,
   "source": [
    "# import JSON data\r\n",
    "\r\n",
    "with open(\"raw_training_data/allEndpoints.json\",\"r\",encoding=\"utf-8\") as json_file:\r\n",
    "     apis = json.load(json_file)\r\n",
    "        "
   ],
   "outputs": [],
   "metadata": {}
  },
  {
   "cell_type": "code",
   "execution_count": null,
   "source": [
    "apis[2]"
   ],
   "outputs": [],
   "metadata": {}
  },
  {
   "cell_type": "code",
   "execution_count": null,
   "source": [
    "print(\"Number of APIs: \",len(apis))\r\n",
    "#calculate number of endpoints\r\n",
    "endpoint_lens = [len(apis[i][\"endpoints\"]) for i in range(len(apis))]\r\n",
    "print(\"Total number of Endpoints: \",sum(endpoint_lens))\r\n",
    "print(\"AVG number of Endpoints: \", sum(endpoint_lens)/len(apis))\r\n",
    "apis[2]"
   ],
   "outputs": [],
   "metadata": {}
  },
  {
   "cell_type": "markdown",
   "source": [
    "## Define Data Structures for APIs"
   ],
   "metadata": {}
  },
  {
   "cell_type": "code",
   "execution_count": null,
   "source": [
    "import operator\r\n",
    "\r\n",
    "\r\n",
    "def string_to_list(value):\r\n",
    "        s_list = list(value)\r\n",
    "        out_list = []\r\n",
    "        for i in range(len(s_list)):\r\n",
    "            if operator.contains('!\"#$%&()*+,-./:;<=>?@[\\\\]^_`{|}~\\t\\n',s_list[i]):\r\n",
    "                out_list.append('.')\r\n",
    "            else:\r\n",
    "                if s_list[i].isupper():\r\n",
    "                    out_list.append('.')\r\n",
    "                    out_list.append(s_list[i].lower())\r\n",
    "                else:\r\n",
    "                    out_list.append(s_list[i])\r\n",
    "\r\n",
    "        out_string = \"\".join(out_list)\r\n",
    "        return [x for x in out_string.split('.') if x]\r\n",
    "    \r\n",
    "class Api:\r\n",
    "    def __init__(self,api_data):\r\n",
    "        self._raw_data = api_data\r\n",
    "        self.key = api_data[\"key\"]\r\n",
    "        self.name = api_data[\"name\"]\r\n",
    "        self.version_key = api_data[\"versionKey\"]\r\n",
    "        self.version_name = api_data[\"versionName\"]\r\n",
    "        self.endpoints = [Endpoint(api_data[\"endpoints\"][i],i) for i in range(len(api_data[\"endpoints\"]))]\r\n",
    "    \r\n",
    "    def get_property(self,name):\r\n",
    "        return self._raw_data[name]\r\n",
    "    \r\n",
    "    def has_endpoints(self):\r\n",
    "        return len(self.endpoints) != 0\r\n",
    "    \r\n",
    "    def __str__(self):\r\n",
    "        json_dict = {}\r\n",
    "        json_dict[\"name\"] = self.name\r\n",
    "        json_dict[\"key\"] = self.key\r\n",
    "        json_dict[\"version_name\"] = self.version_name\r\n",
    "        json_dict[\"version_key\"] = self.version_key\r\n",
    "        json_dict[\"endpoints_size\"] = len(self.endpoints)\r\n",
    "        return json.dumps(json_dict)\r\n",
    "    \r\n",
    "class Endpoint:\r\n",
    "    def __init__(self,endpoint_data,endpoint_num):\r\n",
    "        self._raw_data = endpoint_data\r\n",
    "        self.path = endpoint_data[\"path\"]\r\n",
    "        self.method = endpoint_data[\"method\"]\r\n",
    "        self.request_parameters = [Parameter(endpoint_data[\"requestParameters\"][i]) for i in range(len(endpoint_data[\"requestParameters\"]))]\r\n",
    "        self.response_parameters = [Parameter(endpoint_data[\"responseParameters\"][i]) for i in range(len(endpoint_data[\"responseParameters\"]))]\r\n",
    "        self.path_list = self.path_to_list()\r\n",
    "        self.num = endpoint_num\r\n",
    "    \r\n",
    "    def get_property(self,name):\r\n",
    "        return self._raw_data[name]\r\n",
    "    \r\n",
    "    def has_parameters(self):\r\n",
    "        return (len(self.request_parameters) != 0 or len(self.response_parameters) != 0)\r\n",
    "    \r\n",
    "    def path_to_list(self):\r\n",
    "        return string_to_list(self.path)\r\n",
    "    \r\n",
    "    def __str__(self):\r\n",
    "        json_dict = {}\r\n",
    "        json_dict[\"method\"] = self.method\r\n",
    "        json_dict[\"path\"] = self.path\r\n",
    "        json_dict[\"request_parameters_size\"] = len(self.request_parameters)\r\n",
    "        json_dict[\"response_parameters_size\"] = len(self.response_parameters)\r\n",
    "        return json.dumps(json_dict)\r\n",
    "    \r\n",
    "class Parameter:\r\n",
    "    def __init__(self,parameter_data):\r\n",
    "        self._raw_data = parameter_data\r\n",
    "        self.xpath = parameter_data[\"xpath\"]\r\n",
    "        self.name = parameter_data[\"name\"]\r\n",
    "        \r\n",
    "        #if xpath is empty, overwrite it with name\r\n",
    "        if not self.xpath:\r\n",
    "            self.xpath = self.name\r\n",
    "            \r\n",
    "        self.xpath_list = self.xpath_to_list()\r\n",
    "        self.name_list = self.name_to_list()\r\n",
    "    \r\n",
    "    def get_property(self,name):\r\n",
    "        return self._raw_data[name]\r\n",
    "    \r\n",
    "    def name_to_list(self):\r\n",
    "        return string_to_list(self.name)\r\n",
    "        \r\n",
    "    def xpath_to_list(self):\r\n",
    "        return string_to_list(self.xpath)\r\n",
    "    \r\n",
    "    def __str__(self):\r\n",
    "        json_dict = {}\r\n",
    "        json_dict[\"name\"] = self.name\r\n",
    "        json_dict[\"xpath\"] = self.xpath\r\n",
    "        json_dict[\"name_list\"] = self.name_list\r\n",
    "        json_dict[\"xpath_list\"] = self.xpath_list\r\n",
    "        return json.dumps(json_dict)\r\n",
    "    \r\n",
    "    \r\n",
    "        "
   ],
   "outputs": [],
   "metadata": {}
  },
  {
   "cell_type": "markdown",
   "source": [
    "## Define Data Structure for words to embed"
   ],
   "metadata": {}
  },
  {
   "cell_type": "code",
   "execution_count": null,
   "source": [
    "class Word:\r\n",
    "    def __init__(self, word:str):\r\n",
    "        self.word : str = word\r\n",
    "        self.total_occurences :int = 0\r\n",
    "        self.occures_as_endpoint: int = 0\r\n",
    "        self.occures_as_request: int = 0\r\n",
    "        self.occures_as_response: int = 0\r\n",
    "        self.occures_in_apis = set() #APIs as integers\r\n",
    "        self.occures_in_endpoints = set()\r\n",
    "        self.occures_in_payload = set()\r\n",
    "    \r\n",
    "    def _increase_total_and_add_to_sets(self, api, endpoint, payload=None):\r\n",
    "        '''adds an API, endpoint and payloads to the sets (if they aren't contained)'''\r\n",
    "        self.total_occurences += 1\r\n",
    "        self.occures_in_apis.add(api)\r\n",
    "        self.occures_in_endpoints.add(str(api)+str(endpoint))\r\n",
    "        if payload is not None:\r\n",
    "            self.occures_in_payload.add(str(api)+str(endpoint)+str(payload))\r\n",
    "    \r\n",
    "    def add_as_endpoint(self, api, endpoint):\r\n",
    "        self.occures_as_endpoint += 1\r\n",
    "        self._increase_total_and_add_to_sets(api, endpoint)\r\n",
    "        \r\n",
    "    \r\n",
    "    def add_as_request(self, api, endpoint, payload):\r\n",
    "        self.occures_as_request += 1\r\n",
    "        self._increase_total_and_add_to_sets(api, endpoint, payload)\r\n",
    "    \r\n",
    "    def add_as_response(self, api, endpoint, payload):\r\n",
    "        self.occures_as_response += 1\r\n",
    "        self._increase_total_and_add_to_sets(api, endpoint, payload)    \r\n",
    "        \r\n",
    "    def __str__(self):\r\n",
    "        json_dict = {}\r\n",
    "        json_dict[\"word\"] = self.word\r\n",
    "        json_dict[\"total_occurences\"] = self.total_occurences\r\n",
    "        json_dict[\"occures_as_endpoint\"] = self.occures_as_endpoint\r\n",
    "        json_dict[\"occures_as_request\"] = self.occures_as_request\r\n",
    "        json_dict[\"occures_as_response\"] = self.occures_as_response\r\n",
    "        json_dict[\"contained_in_apis\"] = list(self.occures_in_apis)\r\n",
    "        json_dict[\"contained_in_endpoints\"] = list(self.occures_in_endpoints)\r\n",
    "        json_dict[\"contained_in_payloads\"] = list(self.occures_in_payload)\r\n",
    "        return json.dumps(json_dict)\r\n",
    "    "
   ],
   "outputs": [],
   "metadata": {}
  },
  {
   "cell_type": "code",
   "execution_count": null,
   "source": [
    "word = Word(\"test\")\r\n",
    "\r\n",
    "word.add_as_endpoint(2, \"options\")\r\n",
    "word.add_as_request(3, 5, 7)\r\n",
    "word.add_as_response(3, 8, 1)\r\n",
    "word.add_as_endpoint(13, 9)\r\n",
    "\r\n",
    "\r\n",
    "print(word)"
   ],
   "outputs": [],
   "metadata": {}
  },
  {
   "cell_type": "markdown",
   "source": [
    "## Load Training Data:"
   ],
   "metadata": {}
  },
  {
   "cell_type": "code",
   "execution_count": null,
   "source": [
    "apis_list = [Api(apis[i]) for i in range(len(apis))]"
   ],
   "outputs": [],
   "metadata": {}
  },
  {
   "cell_type": "code",
   "execution_count": null,
   "source": [
    "# Tets print some data\r\n",
    "api = 1\r\n",
    "endpoint = 0\r\n",
    "\r\n",
    "#Some tests:\r\n",
    "print(apis_list[api])\r\n",
    "print(apis_list[api].endpoints[endpoint].path_list)\r\n",
    "print(apis_list[api].endpoints[endpoint].response_parameters[0])"
   ],
   "outputs": [],
   "metadata": {}
  },
  {
   "cell_type": "code",
   "execution_count": null,
   "source": [
    "# Test: print data for one api\r\n",
    "api = 2\r\n",
    "\r\n",
    "#Some tests:\r\n",
    "print(\"API:\")\r\n",
    "print(apis_list[api])\r\n",
    "print()\r\n",
    "print(\"Endpoints:\")\r\n",
    "\r\n",
    "for endpoint in apis_list[api].endpoints:\r\n",
    "    print(\"Endpoint:\")\r\n",
    "    print(endpoint)\r\n",
    "    print()\r\n",
    "    print(\"request parameters:\")\r\n",
    "    for rp in endpoint.request_parameters:\r\n",
    "        print(rp)\r\n",
    "    print()\r\n",
    "    print(\"response parameters:\")\r\n",
    "    for rp in endpoint.response_parameters:\r\n",
    "        print(rp)\r\n",
    "    print()\r\n",
    "    print()\r\n",
    "    \r\n",
    "    \r\n",
    "    \r\n",
    "    "
   ],
   "outputs": [],
   "metadata": {}
  },
  {
   "cell_type": "markdown",
   "source": [
    "## Determine Vocabulary"
   ],
   "metadata": {}
  },
  {
   "cell_type": "code",
   "execution_count": null,
   "source": [
    "#create a vocabulary dictionary\r\n",
    "vocab_dict = {}  # dict:  key: word; value: num_occurences\r\n",
    "\r\n",
    "def increment_vocab_dict(key_list):\r\n",
    "    for key in key_list:\r\n",
    "        if key in vocab_dict:\r\n",
    "            vocab_dict[key]+=1\r\n",
    "        else:\r\n",
    "            vocab_dict[key] = 1\r\n",
    "        \r\n",
    "\r\n",
    "        \r\n",
    "for api in apis_list:\r\n",
    "    \r\n",
    "    for endpoint in api.endpoints:\r\n",
    "       \r\n",
    "        #add path:\r\n",
    "        increment_vocab_dict(endpoint.path_list)\r\n",
    "        #add request parameters\r\n",
    "        for request_parameter in endpoint.request_parameters:\r\n",
    "            increment_vocab_dict(request_parameter.xpath_list)\r\n",
    "                \r\n",
    "        #add response parameters\r\n",
    "        for response_parameter in endpoint.response_parameters:\r\n",
    "            increment_vocab_dict(response_parameter.xpath_list)\r\n",
    "        \r\n",
    "                \r\n",
    "\r\n",
    "                "
   ],
   "outputs": [],
   "metadata": {}
  },
  {
   "cell_type": "code",
   "execution_count": null,
   "source": [
    "#sort vocabulary by occurence\r\n",
    "sorted_vocab_dict = {k: v for k, v in sorted(vocab_dict.items(), key=lambda item: item[1],reverse=True)}\r\n",
    "l = list(sorted_vocab_dict.items())\r\n",
    "\r\n",
    "print(\"number words: \"+str(len(l)))\r\n",
    "\r\n",
    "print(\"Most common words:\")\r\n",
    "print(l[:100])\r\n",
    "\r\n",
    "\r\n"
   ],
   "outputs": [],
   "metadata": {}
  },
  {
   "cell_type": "markdown",
   "source": [
    "# Create Word Objects"
   ],
   "metadata": {}
  },
  {
   "cell_type": "code",
   "execution_count": null,
   "source": [
    "# create objects for words\r\n",
    "\r\n",
    "relevant_words = dict() # (word : WordObject)\r\n",
    "\r\n",
    "def add_to_words(word:str, api:int, word_type:str, endpoint, payload=None):\r\n",
    "    try:\r\n",
    "        word_obj = None\r\n",
    "\r\n",
    "        if word not in relevant_words:\r\n",
    "            word_obj = Word(word)\r\n",
    "            relevant_words[word] = word_obj\r\n",
    "        else:\r\n",
    "            word_obj = relevant_words[word]\r\n",
    "\r\n",
    "        if word_type == \"endpoint\":\r\n",
    "            word_obj.add_as_endpoint(api, endpoint)\r\n",
    "\r\n",
    "        elif word_type == \"request\":\r\n",
    "             word_obj.add_as_request(api, endpoint, payload)\r\n",
    "\r\n",
    "        elif word_type == \"response\":\r\n",
    "             word_obj.add_as_response(api, endpoint, payload)\r\n",
    "                    \r\n",
    "    except KeyError:\r\n",
    "        print(word)\r\n",
    "\r\n",
    "            \r\n",
    "for api_nr, api in enumerate(apis_list):\r\n",
    "    for endpoint_nr, endpoint in enumerate(api.endpoints):\r\n",
    "        \r\n",
    "        for path in endpoint.path_list:\r\n",
    "            add_to_words(path, api_nr, \"endpoint\", endpoint_nr)\r\n",
    "        \r\n",
    "        for request_parameter in endpoint.request_parameters:\r\n",
    "            for parameter in request_parameter.xpath_list:\r\n",
    "                add_to_words(parameter, api_nr, \"request\", endpoint_nr, \"req\")\r\n",
    "        \r\n",
    "        for response_parameter in endpoint.response_parameters:\r\n",
    "            for parameter in response_parameter.xpath_list:\r\n",
    "                add_to_words(parameter, api_nr, \"response\", endpoint_nr, \"res\")   \r\n",
    "    \r\n",
    "    \r\n"
   ],
   "outputs": [],
   "metadata": {}
  },
  {
   "cell_type": "markdown",
   "source": [
    "## Filter Words\n",
    "\n",
    "- just proceed with words that occur at least in 10 different APIs <br>\n",
    "  --> Embedding is created based on different API designs<br>\n",
    "  --> A word that occurs in many different APIs is more relevant "
   ],
   "metadata": {}
  },
  {
   "cell_type": "code",
   "execution_count": null,
   "source": [
    "# filter relevant words function\r\n",
    "\r\n",
    "def filter_words_for_api_occurence(relevant_words:dict, apis_at_least:int):\r\n",
    "    delete_keys = []\r\n",
    "    for key, value in relevant_words.items():\r\n",
    "        if len(value.occures_in_apis) < apis_at_least:\r\n",
    "            delete_keys.append(key)\r\n",
    "    for k in delete_keys:\r\n",
    "        del relevant_words[k]\r\n",
    "    return relevant_words    "
   ],
   "outputs": [],
   "metadata": {}
  },
  {
   "cell_type": "code",
   "execution_count": null,
   "source": [
    "print(\"number words before filtering: \"+str(len(relevant_words)))\r\n",
    "\r\n",
    "relevant_words = filter_words_for_api_occurence(relevant_words, 10)\r\n",
    "\r\n",
    "print(\"number words after filtering: \"+str(len(relevant_words)))"
   ],
   "outputs": [],
   "metadata": {}
  },
  {
   "cell_type": "code",
   "execution_count": null,
   "source": [
    "word_objects_list = list(relevant_words.items())\r\n",
    "print(word_objects_list[:5])\r\n",
    "len(word_objects_list)"
   ],
   "outputs": [],
   "metadata": {}
  },
  {
   "cell_type": "markdown",
   "source": [
    "# Create Similarity Matrix"
   ],
   "metadata": {}
  },
  {
   "cell_type": "markdown",
   "source": [
    "<h3>Determine Similarity between two words</h3>\n",
    "\n",
    "Words are given as word objects, that contain the following information:\n",
    "\n",
    "- the word itself :String\n",
    "- Set of APIs that contain the word :Set\n",
    "- Set of Endpoints that contain the Word. (API_Endpoint) is one element in this set :Set\n",
    "- Set of Payloads that contain the Word. (API_Endpoint_Request) or (API_Endpoint_Response) is one element :Set\n",
    "<br><br>\n",
    "\n",
    "\n",
    "<h4>Similarity between two words</h4>\n",
    "\n",
    "- words are similar when they occur in the same APIs/ Endpoints / Payloads\n",
    "- when a word occures in many places where another doesn't occur, then they are not so similar\n",
    "- if two words occur in the the same payload, then they also occur in the same endpoint\n",
    "- if two words occur in the the same endpoint, then they also occur in the same API\n",
    "\n",
    "![Similarity%20between%20two%20words.png](attachment:Similarity%20between%20two%20words.png)\n"
   ],
   "metadata": {},
   "attachments": {
    "Similarity%20between%20two%20words.png": {
     "image/png": "[encoded data removed]"
    }
   }
  },
  {
   "cell_type": "code",
   "execution_count": null,
   "source": [
    "# determine similarity between two words\r\n",
    "\r\n",
    "def get_similarity(word1, word2, max_similarity_value=10):\r\n",
    "    '''returns similarity value between two given word objects'''\r\n",
    "    def _get_similarity_distribution_over_apis_endpoints_payloads(word1, word2):\r\n",
    "        def _get_intersection_over_apis(word1, word2):\r\n",
    "            size_intersection = len(word1.occures_in_apis.intersection(word2.occures_in_apis))\r\n",
    "            size_union = len(word1.occures_in_apis.union(word2.occures_in_apis))\r\n",
    "            return size_intersection/size_union\r\n",
    "        \r\n",
    "        def _get_intersection_over_endpoints(word1, word2):\r\n",
    "            size_intersection = len(word1.occures_in_endpoints.intersection(word2.occures_in_endpoints))\r\n",
    "            size_union = len(word1.occures_in_endpoints.union(word2.occures_in_endpoints))\r\n",
    "            return size_intersection/size_union\r\n",
    "        \r\n",
    "        def _get_intersection_over_payloads(word1, word2):\r\n",
    "            try:\r\n",
    "                size_intersection = len(word1.occures_in_payload.intersection(word2.occures_in_payload))\r\n",
    "                size_union = len(word1.occures_in_payload.union(word2.occures_in_payload))\r\n",
    "                return size_intersection/size_union\r\n",
    "            except:\r\n",
    "                # when it has no payload because a word is just a endpoint\r\n",
    "                return -1\r\n",
    "            \r\n",
    "        intersection_over_apis = _get_intersection_over_apis(word1, word2)\r\n",
    "        intersection_over_endpoints = _get_intersection_over_endpoints(word1, word2)\r\n",
    "        intersection_over_payloads = _get_intersection_over_payloads(word1, word2)\r\n",
    "        \r\n",
    "        if intersection_over_payloads > -1:\r\n",
    "            return (intersection_over_apis + intersection_over_endpoints + intersection_over_payloads)/3\r\n",
    "        else:\r\n",
    "            return (intersection_over_apis + intersection_over_endpoints)/2\r\n",
    "\r\n",
    "        \r\n",
    "    word1 = word1[1]\r\n",
    "    word2 = word2[1]\r\n",
    "        \r\n",
    "    return _get_similarity_distribution_over_apis_endpoints_payloads(word1, word2) * max_similarity_value"
   ],
   "outputs": [],
   "metadata": {}
  },
  {
   "cell_type": "code",
   "execution_count": null,
   "source": [
    "import numpy as np\r\n",
    "\r\n",
    "similarity_values = []\r\n",
    "\r\n",
    "similarity_matrix = np.zeros((len(word_objects_list),len(word_objects_list)))\r\n",
    "\r\n",
    "for j in range(len(similarity_matrix)):\r\n",
    "    if j % 100 == 0:\r\n",
    "        print(\"progress: \"+str(j))\r\n",
    "    for k in range(j):\r\n",
    "        similarity_value = get_similarity(word_objects_list[j], word_objects_list[k])\r\n",
    "        similarity_matrix[j][k] = similarity_value\r\n",
    "        similarity_matrix[k][j] = similarity_value\r\n",
    "        \r\n",
    "        similarity_values.append(similarity_value)"
   ],
   "outputs": [],
   "metadata": {}
  },
  {
   "cell_type": "code",
   "execution_count": null,
   "source": [
    "similarity_values = np.sort(np.array(similarity_values))"
   ],
   "outputs": [],
   "metadata": {}
  },
  {
   "cell_type": "code",
   "execution_count": null,
   "source": [
    "plt.figure(figsize=(20,6))\r\n",
    "plt.title(\"Similarity Values between Words\")\r\n",
    "plt.plot(similarity_values)\r\n",
    "plt.xlabel('Values')\r\n",
    "plt.ylabel('Similarity')"
   ],
   "outputs": [],
   "metadata": {}
  },
  {
   "cell_type": "code",
   "execution_count": null,
   "source": [
    "# similarity values\r\n",
    "plt.figure(figsize=(20,6))\r\n",
    "plt.title(\"Distribution of Similarity Values between Words\")\r\n",
    "plt.hist(similarity_values, bins='auto')\r\n",
    "plt.xlabel('similarity value')\r\n",
    "plt.ylabel('density')\r\n",
    "plt.show()"
   ],
   "outputs": [],
   "metadata": {}
  },
  {
   "cell_type": "code",
   "execution_count": null,
   "source": [
    "first_index_not_zero = 0\r\n",
    "for i, val in enumerate(similarity_values):\r\n",
    "    if val != 0:\r\n",
    "        first_index_not_zero = i\r\n",
    "        break\r\n",
    "\r\n",
    "print(\"number similaritv values: \"+str(len(similarity_values)))\r\n",
    "print(\"first index not zero: \"+str(first_index_not_zero))\r\n",
    "print(\"proportion not zero: \"+str((len(similarity_values)-first_index_not_zero)/len(similarity_values)))\r\n",
    "\r\n",
    "similarity_values[918977]"
   ],
   "outputs": [],
   "metadata": {}
  },
  {
   "cell_type": "markdown",
   "source": [
    "- Many similarity values are zero so we plot just the non zero ones"
   ],
   "metadata": {}
  },
  {
   "cell_type": "code",
   "execution_count": null,
   "source": [
    "# non zero similarity values\r\n",
    "plt.figure(figsize=(20,10))\r\n",
    "plt.title(\"Distribution of Non-Zero Similarity Values between Words\")\r\n",
    "plt.hist(similarity_values[first_index_not_zero:], bins='auto')\r\n",
    "plt.xlabel('similarity value')\r\n",
    "plt.ylabel('density')\r\n",
    "plt.show()"
   ],
   "outputs": [],
   "metadata": {}
  },
  {
   "cell_type": "markdown",
   "source": [
    "- similarity values pile up at the lower end so we apply a circle function centered at 10 with radius 10 to adjust the values"
   ],
   "metadata": {}
  },
  {
   "cell_type": "code",
   "execution_count": null,
   "source": [
    "circle_fct = lambda v: (10**2 - (10-v)**2)**0.5"
   ],
   "outputs": [],
   "metadata": {}
  },
  {
   "cell_type": "code",
   "execution_count": null,
   "source": [
    "# plot circle function\r\n",
    "\r\n",
    "x = np.linspace(0,10)\r\n",
    "y = circle_fct(x)\r\n",
    "\r\n",
    "plt.title(\"Circle Function\")\r\n",
    "plt.plot(x,y)"
   ],
   "outputs": [],
   "metadata": {}
  },
  {
   "cell_type": "code",
   "execution_count": null,
   "source": [
    "# adjust similarity values by applying circle function\r\n",
    "def adjust_similarity(similarity_matrix, circle_fct):\r\n",
    "    similarity_values = []\r\n",
    "\r\n",
    "    for i in range(len(similarity_matrix)):\r\n",
    "        for k in range(i):\r\n",
    "            new_similarity_value = circle_fct(similarity_matrix[i][k])\r\n",
    "            similarity_matrix[i][k] = new_similarity_value\r\n",
    "            similarity_matrix[k][i] = new_similarity_value\r\n",
    "            similarity_values.append(new_similarity_value)\r\n",
    "\r\n",
    "    similarity_values = np.sort(np.array(similarity_values))\r\n",
    "    \r\n",
    "    return similarity_matrix, similarity_values"
   ],
   "outputs": [],
   "metadata": {}
  },
  {
   "cell_type": "code",
   "execution_count": null,
   "source": [
    "similarity_matrix, similarity_values = adjust_similarity(similarity_matrix, circle_fct)"
   ],
   "outputs": [],
   "metadata": {}
  },
  {
   "cell_type": "code",
   "execution_count": null,
   "source": [
    "# non zero similarity values after adjustment\r\n",
    "plt.figure(figsize=(20,10))\r\n",
    "plt.title(\"Distribution of Non-Zero Similarity Values between Words\")\r\n",
    "plt.hist(similarity_values[first_index_not_zero:], bins='auto')\r\n",
    "plt.xlabel('similarity value')\r\n",
    "plt.ylabel('density')\r\n",
    "plt.show()"
   ],
   "outputs": [],
   "metadata": {}
  },
  {
   "cell_type": "markdown",
   "source": [
    "- similarity values still pile up at the lower end so we apply the circle function again"
   ],
   "metadata": {}
  },
  {
   "cell_type": "code",
   "execution_count": null,
   "source": [
    "similarity_matrix, similarity_values = adjust_similarity(similarity_matrix, circle_fct)"
   ],
   "outputs": [],
   "metadata": {}
  },
  {
   "cell_type": "code",
   "execution_count": null,
   "source": [
    "# non zero similarity values after adjustment\r\n",
    "plt.figure(figsize=(20,10))\r\n",
    "plt.title(\"Distribution of Non-Zero Similarity Values between Words\")\r\n",
    "plt.hist(similarity_values[first_index_not_zero:], bins='auto')\r\n",
    "plt.xlabel('similarity value')\r\n",
    "plt.ylabel('density')\r\n",
    "plt.show()"
   ],
   "outputs": [],
   "metadata": {}
  },
  {
   "cell_type": "markdown",
   "source": [
    "- now it's a centered distribution"
   ],
   "metadata": {}
  },
  {
   "cell_type": "code",
   "execution_count": null,
   "source": [
    "print(similarity_matrix.shape)\r\n",
    "print(len(word_objects_list))"
   ],
   "outputs": [],
   "metadata": {}
  },
  {
   "cell_type": "markdown",
   "source": [
    "# Select Words to embed\n",
    "\n",
    "Words that are embedded should have\n",
    "\n",
    "- large number of occurence\n",
    "- large standard deviation of distances to other words (some far away; some near)"
   ],
   "metadata": {}
  },
  {
   "cell_type": "code",
   "execution_count": null,
   "source": [
    "from statsmodels.stats.weightstats import DescrStatsW\r\n",
    "\r\n",
    "words_stats = np.zeros((len(word_objects_list), 3))  # [[number_occurences; weighted_std(distances_to_other_words); word_obj], [], ...]\r\n",
    "\r\n",
    "# weights for weighted std is number of occurences\r\n",
    "weights = np.array([i[1].total_occurences for i in word_objects_list])\r\n",
    "\r\n",
    "for i, element in enumerate(words_stats):\r\n",
    "    element[0] = word_objects_list[i][1].total_occurences\r\n",
    "    \r\n",
    "    weighted_stats = DescrStatsW(similarity_matrix[i], weights, ddof=0)\r\n",
    "    element[1] = weighted_stats.std\r\n",
    "\r\n"
   ],
   "outputs": [],
   "metadata": {}
  },
  {
   "cell_type": "code",
   "execution_count": null,
   "source": [
    "# plot std of similarity to other words\r\n",
    "\r\n",
    "plt.figure(figsize=(20,10))\r\n",
    "plt.title(\"Distribution of Standard Deviation of Similarity Values of Words\")\r\n",
    "plt.hist(words_stats[:,1], bins='auto')\r\n",
    "plt.xlabel('standard deviation')\r\n",
    "plt.ylabel('density')\r\n",
    "plt.show()"
   ],
   "outputs": [],
   "metadata": {}
  },
  {
   "cell_type": "code",
   "execution_count": null,
   "source": [
    "# std vs number occurences\r\n",
    "plt.figure(figsize=(20,10))\r\n",
    "plt.title(\"Standard Deviation of Distances over Number Occurences of Words\")\r\n",
    "plt.plot(words_stats[:,0], words_stats[:,1], \"bx\")\r\n",
    "plt.xlabel('number occurences')\r\n",
    "plt.ylabel('std')"
   ],
   "outputs": [],
   "metadata": {}
  },
  {
   "cell_type": "code",
   "execution_count": null,
   "source": [
    "words_over_10k = [i for i in words_stats if i[0] > 5000]\r\n",
    "\r\n",
    "len(words_over_10k)"
   ],
   "outputs": [],
   "metadata": {}
  },
  {
   "cell_type": "markdown",
   "source": [
    "# Filter list for elements to embed"
   ],
   "metadata": {}
  },
  {
   "cell_type": "markdown",
   "source": [
    "- determine words to embed by deviding Standard Deviation of Distances over Number Occurences of Words with a line"
   ],
   "metadata": {}
  },
  {
   "cell_type": "code",
   "execution_count": null,
   "source": [
    "def filter_words_stats_list(borderline_m, borderline_x0, words_stats):\r\n",
    "    result_indexes = []\r\n",
    "    \r\n",
    "    for i, element in enumerate(words_stats):\r\n",
    "        x = element[0] # occurences\r\n",
    "        y = element[1] # std\r\n",
    "        \r\n",
    "        if borderline_m* x + borderline_x0 < y: # if it's above border\r\n",
    "            result_indexes.append(i)\r\n",
    "    return np.array(result_indexes)\r\n",
    "\r\n",
    "def filter_list(list_to_filter, indexes_to_use):\r\n",
    "    result = []\r\n",
    "    for i in indexes_to_use:\r\n",
    "        result.append(list_to_filter[i])\r\n",
    "    try:\r\n",
    "        return np.array(result)\r\n",
    "    except:\r\n",
    "        return result\r\n",
    "    \r\n",
    "    \r\n",
    "indexes_to_embed = filter_words_stats_list(-0.0002,2.9, words_stats)\r\n",
    "\r\n",
    "words_stats_to_embed = filter_list(words_stats, indexes_to_embed)\r\n",
    "\r\n",
    "\r\n",
    "len(indexes_to_embed)\r\n",
    "\r\n",
    "\r\n",
    "        \r\n",
    "        \r\n",
    "    "
   ],
   "outputs": [],
   "metadata": {}
  },
  {
   "cell_type": "code",
   "execution_count": null,
   "source": [
    "# std vs number occurences\r\n",
    "# red x are the words to embed\r\n",
    "plt.figure(figsize=(20,10))\r\n",
    "plt.title(\"Embedded (red) and Not Embedded (blue) words\")\r\n",
    "plt.plot(words_stats[:,0], words_stats[:,1], \"bx\")\r\n",
    "plt.plot(words_stats_to_embed[:,0], words_stats_to_embed[:,1], \"rx\")\r\n",
    "plt.xlabel('number occurences')\r\n",
    "plt.ylabel('std')"
   ],
   "outputs": [],
   "metadata": {}
  },
  {
   "cell_type": "code",
   "execution_count": null,
   "source": [
    "word_obj_to_embed = filter_list(word_objects_list, indexes_to_embed)\r\n",
    "\r\n",
    "len(word_obj_to_embed)"
   ],
   "outputs": [],
   "metadata": {}
  },
  {
   "cell_type": "code",
   "execution_count": null,
   "source": [
    "similarity_matrix_to_embed = np.zeros((len(word_obj_to_embed),len(word_obj_to_embed)))\r\n",
    "similarity_values_to_embed = []\r\n",
    "\r\n",
    "for j in range(len(similarity_matrix_to_embed)):\r\n",
    "    if j % 100 == 0:\r\n",
    "        print(j)\r\n",
    "    for k in range(j):\r\n",
    "        similarity_value = circle_fct(circle_fct(get_similarity(word_obj_to_embed[j], word_obj_to_embed[k])))\r\n",
    "        similarity_matrix_to_embed[j][k] = similarity_value\r\n",
    "        similarity_matrix_to_embed[k][j] = similarity_value\r\n",
    "        \r\n",
    "        similarity_values_to_embed.append(similarity_value)"
   ],
   "outputs": [],
   "metadata": {}
  },
  {
   "cell_type": "code",
   "execution_count": null,
   "source": [
    "#similarity values of elements to embed\r\n",
    "plt.figure(figsize=(20,10))\r\n",
    "plt.title(\"Distribution of Similarity Values of embedded Words\")\r\n",
    "plt.hist(similarity_values_to_embed, bins='auto')\r\n",
    "plt.xlabel('similarity value')\r\n",
    "plt.ylabel('density')\r\n",
    "plt.show()"
   ],
   "outputs": [],
   "metadata": {}
  },
  {
   "cell_type": "markdown",
   "source": [
    "# Transform Similarity Matrix into Distance Matrix"
   ],
   "metadata": {}
  },
  {
   "cell_type": "markdown",
   "source": [
    "- large similarity --> small distance (and vice versa)\n",
    "<br><br>\n",
    "- mirror similarity value in the middle and shift it one to the right to prevent values of zero\n",
    "\n",
    "distance(similarity) = 11-similarity_value"
   ],
   "metadata": {}
  },
  {
   "cell_type": "code",
   "execution_count": null,
   "source": [
    "def transform_similarity_into_distance_value(similarity_value, max_similarity_value, min_distance=1, max_diatnce=11):\r\n",
    "    return max_diatnce+((min_distance-max_diatnce)/max_similarity_value)*similarity_value"
   ],
   "outputs": [],
   "metadata": {}
  },
  {
   "cell_type": "code",
   "execution_count": null,
   "source": [
    "dist_matrix = np.zeros((len(word_obj_to_embed),len(word_obj_to_embed)))\r\n",
    "distance_values = []\r\n",
    "\r\n",
    "max_similarity_value = 10\r\n",
    "\r\n",
    "for i in range(len(similarity_matrix_to_embed)):\r\n",
    "    for k in range(i):\r\n",
    "        distance_value = transform_similarity_into_distance_value(similarity_matrix_to_embed[i][k], max_similarity_value)\r\n",
    "        dist_matrix[i][k] = distance_value\r\n",
    "        dist_matrix[k][i] = distance_value\r\n",
    "        \r\n",
    "        distance_values.append(distance_value)       \r\n",
    "        "
   ],
   "outputs": [],
   "metadata": {}
  },
  {
   "cell_type": "code",
   "execution_count": null,
   "source": [
    "# distance values\r\n",
    "\r\n",
    "plt.figure(figsize=(20,10))\r\n",
    "plt.title(\"Distribution of Distances of embedded Words\")\r\n",
    "plt.hist(distance_values, bins='auto')\r\n",
    "plt.xlabel('similarity value')\r\n",
    "plt.ylabel('density')\r\n",
    "plt.show()"
   ],
   "outputs": [],
   "metadata": {}
  },
  {
   "cell_type": "markdown",
   "source": [
    "- there are many distance values of 11 that are not very important and small distance values that are important\n",
    "\n",
    "- the weight matrix states how important it is, that the final embedding has the right distance between two words\n",
    "\n",
    "- the lower the distance between two words is the more important it is that the distance is properly contained in the final embedding"
   ],
   "metadata": {}
  },
  {
   "cell_type": "code",
   "execution_count": null,
   "source": [
    "max_distance_value = 11\r\n",
    "weight_at_zero_distance = 3\r\n",
    "\r\n",
    "weight_dist = lambda w: w*(1-weight_at_zero_distance)/max_distance_value + weight_at_zero_distance"
   ],
   "outputs": [],
   "metadata": {}
  },
  {
   "cell_type": "code",
   "execution_count": null,
   "source": [
    "# plot weight function\r\n",
    "\r\n",
    "x = np.linspace(0,11)\r\n",
    "y = weight_dist(x)\r\n",
    "\r\n",
    "plt.figure(figsize=(20,6))\r\n",
    "plt.title(\"Weight(distance)\")\r\n",
    "plt.plot(x,y)"
   ],
   "outputs": [],
   "metadata": {}
  },
  {
   "cell_type": "markdown",
   "source": [
    "- distance 0 is 3 times more important to be contained properly than the max distance of 11"
   ],
   "metadata": {}
  },
  {
   "cell_type": "code",
   "execution_count": null,
   "source": [
    "# make weights(importance) for distance values\r\n",
    "# small distances being small is more important than large distances being large\r\n",
    "\r\n",
    "weight_matrix = np.ones((len(dist_matrix),len(dist_matrix)))\r\n",
    "\r\n",
    "for i in range(len(weight_matrix)):\r\n",
    "    for k in range(i):\r\n",
    "        weight = weight_dist(dist_matrix[i][k])\r\n",
    "        weight_matrix[i][k] = weight\r\n",
    "        weight_matrix[k][i] = weight\r\n",
    "        \r\n",
    "weight_matrix"
   ],
   "outputs": [],
   "metadata": {}
  },
  {
   "cell_type": "markdown",
   "source": [
    "# Train Embedding"
   ],
   "metadata": {}
  },
  {
   "cell_type": "code",
   "execution_count": null,
   "source": [
    "import random\r\n",
    "\r\n",
    "from scipy.optimize import minimize\r\n",
    "from scipy.spatial import distance_matrix\r\n",
    "\r\n",
    "def trainVectors(distMatrix, weightMatrix, dimensions: int, vec=None, log = True):\r\n",
    "    '''\r\n",
    "    returns trained embedding vectors\r\n",
    "    distMatrix: matrix describing distances between vectors\r\n",
    "    dimensions: number of dimensions of output vectors\r\n",
    "    \r\n",
    "    '''\r\n",
    "    \r\n",
    "    def initVectors(numb:int, dim:int):\r\n",
    "        '''returns (numb):int randomly initialized vectors with (dim):int dimensions each'''\r\n",
    "        return np.random.rand(len(distMatrix), dimensions)\r\n",
    "    \r\n",
    "    def transform_vectors_into_scipy_input(vectors):\r\n",
    "        '''transforms the list of vectors into one vector that can be handled by the scypy optimize library'''\r\n",
    "        return vectors.reshape(len(distMatrix)*dimensions)\r\n",
    "    \r\n",
    "    def transform_vectors_into_normal_format(vectors):\r\n",
    "        '''transforms the vectors into a list of single vectors (one for each word)'''\r\n",
    "        return vectors.reshape(distMatrix.shape[0], dimensions)\r\n",
    "    \r\n",
    "    def loss(vectors):\r\n",
    "        '''returns the loss value based on the given vectors (both formats accepted)\r\n",
    "           the return value must be minimized by adjusting the vectors to solve the problem\r\n",
    "        '''        \r\n",
    "        vectors = transform_vectors_into_normal_format(vectors)        \r\n",
    "        return np.sum(np.multiply(np.square(np.subtract(distance_matrix(vectors, vectors), distMatrix)),weightMatrix))\r\n",
    "    \r\n",
    "    \r\n",
    "    # init vectors\r\n",
    "    if vec is None:\r\n",
    "        vectors = initVectors(len(distMatrix),dimensions)\r\n",
    "    else:\r\n",
    "        vectors = vec\r\n",
    "        \r\n",
    "    loss_value = loss(vectors)\r\n",
    "    if log:\r\n",
    "        print(\"first loss:\")\r\n",
    "        print(str(loss_value))\r\n",
    "    \r\n",
    "    # try to get better init vectors\r\n",
    "    for i in range(100):\r\n",
    "        v_try = initVectors(len(distMatrix),dimensions)\r\n",
    "        loss_try = loss(v_try)\r\n",
    "        if loss_try < loss_value:\r\n",
    "            vectors = v_try\r\n",
    "            loss_value = loss_try\r\n",
    "    \r\n",
    "    if log:\r\n",
    "        # print init values\r\n",
    "        print(\"init Vectors:\")\r\n",
    "        print(str(vectors))\r\n",
    "        print()\r\n",
    "        print(\"should dist matrix:\")\r\n",
    "        print(str(distMatrix))\r\n",
    "        print()\r\n",
    "        current_dm = distance_matrix(vectors, vectors)\r\n",
    "        print(\"is dist matrix:\")\r\n",
    "        print(str(current_dm))\r\n",
    "        print()\r\n",
    "        print(\"loss:\")\r\n",
    "        print(str(loss(vectors)))\r\n",
    "        print(\"--------------------------------------------------------------\")\r\n",
    "        print()\r\n",
    "        print()\r\n",
    "       \r\n",
    "    # minimize loss function by using scipy optimization library\r\n",
    "    vectors = minimize(loss, transform_vectors_into_scipy_input(vectors)).x\r\n",
    "    vectors = transform_vectors_into_normal_format(vectors)\r\n",
    "    \r\n",
    "    if log:\r\n",
    "        #print results\r\n",
    "        print(\"After Optimization\")\r\n",
    "        print(\"Vectors:\")\r\n",
    "        print(str(vectors))\r\n",
    "        print()\r\n",
    "        print(\"should dist matrix:\")\r\n",
    "        print(str(distMatrix))\r\n",
    "        print()\r\n",
    "        current_dm = distance_matrix(vectors, vectors)\r\n",
    "        print(\"is dist matrix:\")\r\n",
    "        print(str(current_dm))\r\n",
    "        print()\r\n",
    "        print(\"loss:\")\r\n",
    "        print(str(loss(vectors)))\r\n",
    "        print()\r\n",
    "          \r\n",
    "    return vectors, distance_matrix(vectors, vectors)    \r\n",
    "\r\n"
   ],
   "outputs": [],
   "metadata": {}
  },
  {
   "cell_type": "code",
   "execution_count": null,
   "source": [
    "def train_Vectors_lbfgsb(distMatrix, weightMatrix, dimensions:int, vec=None, log=False):\r\n",
    "    def initVectors(numb:int, dim:int, max_value=11):\r\n",
    "        '''returns (numb):int randomly initialized vectors with (dim):int dimensions each'''\r\n",
    "        return np.random.rand(numb, dim)*max_value-(max_value/2)\r\n",
    "    \r\n",
    "    def transform_vectors_into_one_vec(vectors):\r\n",
    "        '''transforms the list of vectors into one vector that can be handled by the scypy optimize library'''\r\n",
    "        return vectors.reshape(len(distMatrix)*dimensions)\r\n",
    "    \r\n",
    "    def transform_vectors_into_normal_format(vectors):\r\n",
    "        '''transforms the vectors into a list of single vectors (one for each word)'''\r\n",
    "        return vectors.reshape(distMatrix.shape[0], dimensions)\r\n",
    "    \r\n",
    "    def loss(vectors):\r\n",
    "        '''returns the loss value based on the given vectors (both formats accepted)\r\n",
    "           the return value must be minimized by adjusting the vectors to solve the problem\r\n",
    "        '''        \r\n",
    "        vectors = transform_vectors_into_normal_format(vectors)        \r\n",
    "        return np.sum(np.multiply(np.square(np.subtract(np.square(distance_matrix(vectors, vectors)), np.square(distMatrix))), weightMatrix))/2\r\n",
    "    \r\n",
    "    def get_vector_index(n:int, d:int)->int:\r\n",
    "        return n*dimensions+d\r\n",
    "\r\n",
    "    def eucledian_squared(v1, v2):\r\n",
    "        return np.sum(np.square(np.subtract(v1,v2)))\r\n",
    "    \r\n",
    "    def get_Derivative_Loss_fct_wrt_parameter(n,d):\r\n",
    "        '''returns derivative of Loss Function w.r.t. element d of Vector n with the current vectors and distMatrix'''\r\n",
    "        def dLoss_dXnd(v):\r\n",
    "            res = 0\r\n",
    "            for i in range(len(distMatrix)):\r\n",
    "                if i != n:\r\n",
    "                    res += 4*weightMatrix[n][i]*(v[n][d] - v[i][d])*(eucledian_squared(v[n], v[i])-distMatrix[i][n]**2)\r\n",
    "            return res\r\n",
    "        return dLoss_dXnd\r\n",
    "    \r\n",
    "    def get_gradient_function():\r\n",
    "        rs_fct = []\r\n",
    "        for n in range(len(distMatrix)):\r\n",
    "            for d in range(dimensions):\r\n",
    "                rs_fct.append(get_Derivative_Loss_fct_wrt_parameter(n,d))\r\n",
    "\r\n",
    "        def get_gradient_vector(vectors):\r\n",
    "            v = transform_vectors_into_normal_format(vectors)\r\n",
    "            gradient = np.zeros(len(rs_fct))\r\n",
    "\r\n",
    "            for i, fct in enumerate(rs_fct):\r\n",
    "                gradient[i] = fct(v)\r\n",
    "            return gradient\r\n",
    "        return get_gradient_vector\r\n",
    "    \r\n",
    "    def relocate_vectors_to_center(vectors):\r\n",
    "        vectors = transform_vectors_into_normal_format(vectors)\r\n",
    "        center = []\r\n",
    "        for i in range(len(vectors[0])):\r\n",
    "            center.append(np.sum(vectors[:,i]))\r\n",
    "        center = np.array(center)/len(vectors)\r\n",
    "        vectors -= center\r\n",
    "        return vectors\r\n",
    "    \r\n",
    "    if vec is None:\r\n",
    "        vec = initVectors(len(distMatrix), dimensions)\r\n",
    "        \r\n",
    "\r\n",
    "    get_jac = get_gradient_function()\r\n",
    "\r\n",
    "    if log is True:\r\n",
    "        print(\"init loss = \"+str(loss(vec)))\r\n",
    "        \r\n",
    "    vec = transform_vectors_into_one_vec(vec)\r\n",
    "        \r\n",
    "    vec = minimize(fun=loss, x0=vec, method='L-BFGS-B', jac=get_jac)\r\n",
    "    \r\n",
    "    if log is True:\r\n",
    "        print(\"Optimization result:\")\r\n",
    "        print(vec)\r\n",
    "    \r\n",
    "    vec = vec.x\r\n",
    "    \r\n",
    "    if log is True:\r\n",
    "        print(\"final loss = \"+str(loss(vec)))\r\n",
    "        \r\n",
    "    return relocate_vectors_to_center(vec)"
   ],
   "outputs": [],
   "metadata": {}
  },
  {
   "cell_type": "code",
   "execution_count": null,
   "source": [
    "dist_matrix.shape"
   ],
   "outputs": [],
   "metadata": {}
  },
  {
   "cell_type": "code",
   "execution_count": null,
   "source": [
    "embedding_vectors = train_Vectors_lbfgsb(dist_matrix, weight_matrix, dimensions= 10, vec=None, log=True)"
   ],
   "outputs": [],
   "metadata": {}
  },
  {
   "cell_type": "code",
   "execution_count": null,
   "source": [
    "embedding_vectors, is_distance_matrix = trainVectors(dist_matrix, weight_matrix, dimensions= 10, vec=embedding_vectors, log=True)"
   ],
   "outputs": [],
   "metadata": {}
  },
  {
   "cell_type": "code",
   "execution_count": null,
   "source": [
    "embedding_vectors"
   ],
   "outputs": [],
   "metadata": {}
  },
  {
   "cell_type": "code",
   "execution_count": null,
   "source": [
    "import sys\r\n",
    "np.set_printoptions(threshold=sys.maxsize)\r\n",
    "\r\n",
    "embedding_vectors\r\n"
   ],
   "outputs": [],
   "metadata": {}
  },
  {
   "cell_type": "code",
   "execution_count": null,
   "source": [
    "# embedded words list\r\n",
    "\r\n",
    "embedded_words = []\r\n",
    "for i in word_obj_to_embed:\r\n",
    "    embedded_words.append(i[0])\r\n",
    "    \r\n",
    "embedded_words\r\n"
   ],
   "outputs": [],
   "metadata": {}
  },
  {
   "cell_type": "code",
   "execution_count": null,
   "source": [
    "# build embedding_dict\r\n",
    "\r\n",
    "word_embedding_dict = {}\r\n",
    "\r\n",
    "for i in range(len(word_obj_to_embed)):\r\n",
    "    word_embedding_dict[word_obj_to_embed[i][0]] = embedding_vectors[i]\r\n",
    "\r\n",
    "word_embedding_dict  "
   ],
   "outputs": [],
   "metadata": {}
  },
  {
   "cell_type": "markdown",
   "source": [
    "## Write Embedding into a Json File"
   ],
   "metadata": {}
  },
  {
   "cell_type": "code",
   "execution_count": null,
   "source": [
    "def save_embedding_to_file(filepath:str, embedding:dict):\r\n",
    "    def convert_np_arrays_to_list_in_dict(emb_dict: dict):\r\n",
    "        for key, value in emb_dict.items():\r\n",
    "            emb_dict[key] = value.tolist()\r\n",
    "        return emb_dict\r\n",
    "    \r\n",
    "    embedding = convert_np_arrays_to_list_in_dict(embedding)\r\n",
    "    \r\n",
    "    with open(filepath+\".json\", 'w') as file:\r\n",
    "        json.dump(embedding, file)\r\n",
    "    file.close()  \r\n"
   ],
   "outputs": [],
   "metadata": {}
  },
  {
   "cell_type": "code",
   "execution_count": null,
   "source": [
    "save_embedding_to_file(\"open_api_embedding_5d_314_words\", word_embedding_dict)"
   ],
   "outputs": [],
   "metadata": {}
  },
  {
   "cell_type": "code",
   "execution_count": null,
   "source": [],
   "outputs": [],
   "metadata": {}
  }
 ],
 "metadata": {
  "kernelspec": {
   "display_name": "Python 3",
   "language": "python",
   "name": "python3"
  },
  "language_info": {
   "codemirror_mode": {
    "name": "ipython",
    "version": 3
   },
   "file_extension": ".py",
   "mimetype": "text/x-python",
   "name": "python",
   "nbconvert_exporter": "python",
   "pygments_lexer": "ipython3",
   "version": "3.7.4"
  }
 },
 "nbformat": 4,
 "nbformat_minor": 4
}